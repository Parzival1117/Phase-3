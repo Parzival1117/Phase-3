list[0,1,2,3,4,5,6,7,8,9]
name= input("please tell me your name")
pos=0
for e in name:
    while e[pos]==list:
        print ("You only can enter letters")
